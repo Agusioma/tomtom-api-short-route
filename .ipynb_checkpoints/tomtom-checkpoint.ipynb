{
 "cells": [
  {
   "cell_type": "code",
   "execution_count": 5,
   "metadata": {},
   "outputs": [],
   "source": [
    "import urllib.parse as urlparse\n",
    "import pandas as pd\n",
    "import requests as rq"
   ]
  },
  {
   "cell_type": "code",
   "execution_count": 31,
   "metadata": {},
   "outputs": [],
   "source": [
    "__API_KEY__ = \"O81bHEfH6GzFRVgj6CTXyPGTYAsqNEVJ\"\n",
    "departure_point = 'Los Angeles'\n",
    "delivery_point = 'Irvine'\n",
    "departure_time = '2021-10-02T08:00:00'"
   ]
  },
  {
   "cell_type": "code",
   "execution_count": 27,
   "metadata": {},
   "outputs": [],
   "source": [
    "def search_city_coords(city, key):\n",
    "    coordinates_base_url = \"https://api.tomtom.com/search/2/search/\"+urlparse.quote(city)+\".json?minFuzzyLevel=1&maxFuzzyLevel=2&view=Unified&relatedPois=off&key=\"+key\n",
    "    json_response = rq.get(coordinates_base_url).json()\n",
    "    latitude = json_response['results'][0]['position']['lat']\n",
    "    longitude = json_response['results'][0]['position']['lon']\n",
    "    position = str(latitude)+\",\"+str(longitude)\n",
    "    return position"
   ]
  },
  {
   "cell_type": "code",
   "execution_count": 85,
   "metadata": {},
   "outputs": [],
   "source": [
    "def get_routes_info(start, stop, departAt, key):\n",
    "    base_url = \"https://api.tomtom.com/routing/1/calculateRoute/\"+start+\":\"+stop+\"/json?maxAlternatives=5&instructionsType=text&departAt=\"+departure_time+\"&key=\"+key\n",
    "    json_response = rq.get(base_url).json()\n",
    "    routes_obj = json_response['routes']\n",
    "    obj_length = len(testArr)\n",
    "    for i in range(obj_length):\n",
    "        if (i == 0):\n",
    "            summary_df = pd.DataFrame([routes_obj[0]['summary']])\n",
    "        else:\n",
    "            summary_df = summary_df.append((routes_obj[i]['summary']),ignore_index=True)\n",
    "    return summary_df"
   ]
  },
  {
   "cell_type": "code",
   "execution_count": 90,
   "metadata": {},
   "outputs": [],
   "source": [
    "departure_point_coords = search_city_coords(departure_point, __API_KEY__)\n",
    "delivery_point_coords = search_city_coords(delivery_point, __API_KEY__)\n",
    "\n",
    "summary_df = get_routes_info(departure_point_coords, delivery_point_coords, departure_time, __API_KEY__)"
   ]
  },
  {
   "cell_type": "code",
   "execution_count": 91,
   "metadata": {},
   "outputs": [
    {
     "data": {
      "text/html": [
       "<div>\n",
       "<style scoped>\n",
       "    .dataframe tbody tr th:only-of-type {\n",
       "        vertical-align: middle;\n",
       "    }\n",
       "\n",
       "    .dataframe tbody tr th {\n",
       "        vertical-align: top;\n",
       "    }\n",
       "\n",
       "    .dataframe thead th {\n",
       "        text-align: right;\n",
       "    }\n",
       "</style>\n",
       "<table border=\"1\" class=\"dataframe\">\n",
       "  <thead>\n",
       "    <tr style=\"text-align: right;\">\n",
       "      <th></th>\n",
       "      <th>lengthInMeters</th>\n",
       "      <th>travelTimeInSeconds</th>\n",
       "      <th>trafficDelayInSeconds</th>\n",
       "      <th>trafficLengthInMeters</th>\n",
       "      <th>departureTime</th>\n",
       "      <th>arrivalTime</th>\n",
       "    </tr>\n",
       "  </thead>\n",
       "  <tbody>\n",
       "    <tr>\n",
       "      <th>0</th>\n",
       "      <td>64191</td>\n",
       "      <td>2583</td>\n",
       "      <td>0</td>\n",
       "      <td>0</td>\n",
       "      <td>2021-10-02T08:00:00-07:00</td>\n",
       "      <td>2021-10-02T08:43:02-07:00</td>\n",
       "    </tr>\n",
       "    <tr>\n",
       "      <th>1</th>\n",
       "      <td>75233</td>\n",
       "      <td>2861</td>\n",
       "      <td>0</td>\n",
       "      <td>0</td>\n",
       "      <td>2021-10-02T08:00:00-07:00</td>\n",
       "      <td>2021-10-02T08:47:40-07:00</td>\n",
       "    </tr>\n",
       "    <tr>\n",
       "      <th>2</th>\n",
       "      <td>73289</td>\n",
       "      <td>2813</td>\n",
       "      <td>0</td>\n",
       "      <td>0</td>\n",
       "      <td>2021-10-02T08:00:00-07:00</td>\n",
       "      <td>2021-10-02T08:46:52-07:00</td>\n",
       "    </tr>\n",
       "    <tr>\n",
       "      <th>3</th>\n",
       "      <td>75924</td>\n",
       "      <td>2912</td>\n",
       "      <td>0</td>\n",
       "      <td>0</td>\n",
       "      <td>2021-10-02T08:00:00-07:00</td>\n",
       "      <td>2021-10-02T08:48:32-07:00</td>\n",
       "    </tr>\n",
       "    <tr>\n",
       "      <th>4</th>\n",
       "      <td>84157</td>\n",
       "      <td>3141</td>\n",
       "      <td>0</td>\n",
       "      <td>0</td>\n",
       "      <td>2021-10-02T08:00:00-07:00</td>\n",
       "      <td>2021-10-02T08:52:21-07:00</td>\n",
       "    </tr>\n",
       "    <tr>\n",
       "      <th>5</th>\n",
       "      <td>75795</td>\n",
       "      <td>3001</td>\n",
       "      <td>0</td>\n",
       "      <td>0</td>\n",
       "      <td>2021-10-02T08:00:00-07:00</td>\n",
       "      <td>2021-10-02T08:50:01-07:00</td>\n",
       "    </tr>\n",
       "  </tbody>\n",
       "</table>\n",
       "</div>"
      ],
      "text/plain": [
       "   lengthInMeters  travelTimeInSeconds  trafficDelayInSeconds  \\\n",
       "0           64191                 2583                      0   \n",
       "1           75233                 2861                      0   \n",
       "2           73289                 2813                      0   \n",
       "3           75924                 2912                      0   \n",
       "4           84157                 3141                      0   \n",
       "5           75795                 3001                      0   \n",
       "\n",
       "   trafficLengthInMeters              departureTime                arrivalTime  \n",
       "0                      0  2021-10-02T08:00:00-07:00  2021-10-02T08:43:02-07:00  \n",
       "1                      0  2021-10-02T08:00:00-07:00  2021-10-02T08:47:40-07:00  \n",
       "2                      0  2021-10-02T08:00:00-07:00  2021-10-02T08:46:52-07:00  \n",
       "3                      0  2021-10-02T08:00:00-07:00  2021-10-02T08:48:32-07:00  \n",
       "4                      0  2021-10-02T08:00:00-07:00  2021-10-02T08:52:21-07:00  \n",
       "5                      0  2021-10-02T08:00:00-07:00  2021-10-02T08:50:01-07:00  "
      ]
     },
     "execution_count": 91,
     "metadata": {},
     "output_type": "execute_result"
    }
   ],
   "source": [
    "summary_df.iloc[: , :6]"
   ]
  },
  {
   "cell_type": "code",
   "execution_count": null,
   "metadata": {},
   "outputs": [],
   "source": []
  }
 ],
 "metadata": {
  "kernelspec": {
   "display_name": "Python 3",
   "language": "python",
   "name": "python3"
  },
  "language_info": {
   "codemirror_mode": {
    "name": "ipython",
    "version": 3
   },
   "file_extension": ".py",
   "mimetype": "text/x-python",
   "name": "python",
   "nbconvert_exporter": "python",
   "pygments_lexer": "ipython3",
   "version": "3.8.5"
  }
 },
 "nbformat": 4,
 "nbformat_minor": 4
}
