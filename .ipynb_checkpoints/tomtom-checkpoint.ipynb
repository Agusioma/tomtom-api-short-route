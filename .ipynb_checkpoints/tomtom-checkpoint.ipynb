{
 "cells": [
  {
   "cell_type": "code",
   "execution_count": 5,
   "metadata": {},
   "outputs": [],
   "source": [
    "import urllib.parse as urlparse\n",
    "import pandas as pd\n",
    "import requests as rq"
   ]
  },
  {
   "cell_type": "code",
   "execution_count": 31,
   "metadata": {},
   "outputs": [],
   "source": [
    "__API_KEY__ = \"O81bHEfH6GzFRVgj6CTXyPGTYAsqNEVJ\"\n",
    "departure_point = 'Los Angeles'\n",
    "delivery_point = 'Irvine'\n",
    "departure_time = '2021-10-02T08:00:00'"
   ]
  },
  {
   "cell_type": "code",
   "execution_count": 27,
   "metadata": {},
   "outputs": [],
   "source": [
    "def search_city_coords(city, key):\n",
    "    coordinates_base_url = \"https://api.tomtom.com/search/2/search/\"+urlparse.quote(city)+\".json?minFuzzyLevel=1&maxFuzzyLevel=2&view=Unified&relatedPois=off&key=\"+key\n",
    "    json_response = rq.get(coordinates_base_url).json()\n",
    "    latitude = json_response['results'][0]['position']['lat']\n",
    "    longitude = json_response['results'][0]['position']['lon']\n",
    "    position = str(latitude)+\",\"+str(longitude)\n",
    "    return position"
   ]
  },
  {
   "cell_type": "code",
   "execution_count": 104,
   "metadata": {},
   "outputs": [],
   "source": [
    "def get_routes_info(start, stop, departAt, key):\n",
    "    base_url = \"https://api.tomtom.com/routing/1/calculateRoute/\"+start+\":\"+stop+\"/json?maxAlternatives=5&instructionsType=text&departAt=\"+departure_time+\"&key=\"+key\n",
    "    json_response = rq.get(base_url).json()\n",
    "    routes_obj = json_response['routes']\n",
    "    obj_length = len(routes_obj)\n",
    "    for i in range(obj_length):\n",
    "        if (i == 0):\n",
    "            summary_df = pd.DataFrame([routes_obj[0]['summary']])\n",
    "        else:\n",
    "            summary_df = summary_df.append((routes_obj[i]['summary']),ignore_index=True)\n",
    "    return summary_df"
   ]
  },
  {
   "cell_type": "code",
   "execution_count": 105,
   "metadata": {},
   "outputs": [],
   "source": [
    "departure_point_coords = search_city_coords(departure_point, __API_KEY__)\n",
    "delivery_point_coords = search_city_coords(delivery_point, __API_KEY__)\n",
    "\n",
    "summary_df = get_routes_info(departure_point_coords, delivery_point_coords, departure_time, __API_KEY__)"
   ]
  },
  {
   "cell_type": "code",
   "execution_count": 106,
   "metadata": {},
   "outputs": [
    {
     "data": {
      "text/html": [
       "<div>\n",
       "<style scoped>\n",
       "    .dataframe tbody tr th:only-of-type {\n",
       "        vertical-align: middle;\n",
       "    }\n",
       "\n",
       "    .dataframe tbody tr th {\n",
       "        vertical-align: top;\n",
       "    }\n",
       "\n",
       "    .dataframe thead th {\n",
       "        text-align: right;\n",
       "    }\n",
       "</style>\n",
       "<table border=\"1\" class=\"dataframe\">\n",
       "  <thead>\n",
       "    <tr style=\"text-align: right;\">\n",
       "      <th></th>\n",
       "      <th>lengthInMeters</th>\n",
       "      <th>travelTimeInSeconds</th>\n",
       "      <th>trafficDelayInSeconds</th>\n",
       "      <th>trafficLengthInMeters</th>\n",
       "      <th>departureTime</th>\n",
       "      <th>arrivalTime</th>\n",
       "    </tr>\n",
       "  </thead>\n",
       "  <tbody>\n",
       "    <tr>\n",
       "      <th>0</th>\n",
       "      <td>64191</td>\n",
       "      <td>2583</td>\n",
       "      <td>0</td>\n",
       "      <td>0</td>\n",
       "      <td>2021-10-02T08:00:00-07:00</td>\n",
       "      <td>2021-10-02T08:43:02-07:00</td>\n",
       "    </tr>\n",
       "    <tr>\n",
       "      <th>1</th>\n",
       "      <td>75233</td>\n",
       "      <td>2861</td>\n",
       "      <td>0</td>\n",
       "      <td>0</td>\n",
       "      <td>2021-10-02T08:00:00-07:00</td>\n",
       "      <td>2021-10-02T08:47:40-07:00</td>\n",
       "    </tr>\n",
       "    <tr>\n",
       "      <th>2</th>\n",
       "      <td>68624</td>\n",
       "      <td>2696</td>\n",
       "      <td>0</td>\n",
       "      <td>0</td>\n",
       "      <td>2021-10-02T08:00:00-07:00</td>\n",
       "      <td>2021-10-02T08:44:55-07:00</td>\n",
       "    </tr>\n",
       "    <tr>\n",
       "      <th>3</th>\n",
       "      <td>84159</td>\n",
       "      <td>3154</td>\n",
       "      <td>0</td>\n",
       "      <td>0</td>\n",
       "      <td>2021-10-02T08:00:00-07:00</td>\n",
       "      <td>2021-10-02T08:52:33-07:00</td>\n",
       "    </tr>\n",
       "    <tr>\n",
       "      <th>4</th>\n",
       "      <td>73332</td>\n",
       "      <td>2854</td>\n",
       "      <td>0</td>\n",
       "      <td>0</td>\n",
       "      <td>2021-10-02T08:00:00-07:00</td>\n",
       "      <td>2021-10-02T08:47:33-07:00</td>\n",
       "    </tr>\n",
       "    <tr>\n",
       "      <th>5</th>\n",
       "      <td>83048</td>\n",
       "      <td>3142</td>\n",
       "      <td>0</td>\n",
       "      <td>0</td>\n",
       "      <td>2021-10-02T08:00:00-07:00</td>\n",
       "      <td>2021-10-02T08:52:21-07:00</td>\n",
       "    </tr>\n",
       "  </tbody>\n",
       "</table>\n",
       "</div>"
      ],
      "text/plain": [
       "   lengthInMeters  travelTimeInSeconds  trafficDelayInSeconds  \\\n",
       "0           64191                 2583                      0   \n",
       "1           75233                 2861                      0   \n",
       "2           68624                 2696                      0   \n",
       "3           84159                 3154                      0   \n",
       "4           73332                 2854                      0   \n",
       "5           83048                 3142                      0   \n",
       "\n",
       "   trafficLengthInMeters              departureTime                arrivalTime  \n",
       "0                      0  2021-10-02T08:00:00-07:00  2021-10-02T08:43:02-07:00  \n",
       "1                      0  2021-10-02T08:00:00-07:00  2021-10-02T08:47:40-07:00  \n",
       "2                      0  2021-10-02T08:00:00-07:00  2021-10-02T08:44:55-07:00  \n",
       "3                      0  2021-10-02T08:00:00-07:00  2021-10-02T08:52:33-07:00  \n",
       "4                      0  2021-10-02T08:00:00-07:00  2021-10-02T08:47:33-07:00  \n",
       "5                      0  2021-10-02T08:00:00-07:00  2021-10-02T08:52:21-07:00  "
      ]
     },
     "execution_count": 106,
     "metadata": {},
     "output_type": "execute_result"
    }
   ],
   "source": [
    "summary_df.iloc[: , :6]"
   ]
  },
  {
   "cell_type": "code",
   "execution_count": 107,
   "metadata": {},
   "outputs": [
    {
     "name": "stdout",
     "output_type": "stream",
     "text": [
      "Minimum travel time is:  2583  seconds\n"
     ]
    }
   ],
   "source": [
    "min_travel_time = summary_df['travelTimeInSeconds'].min()\n",
    "print(\"Minimum travel time is: \",min_travel_time,\" seconds\")"
   ]
  },
  {
   "cell_type": "code",
   "execution_count": 108,
   "metadata": {},
   "outputs": [
    {
     "data": {
      "text/plain": [
       "0"
      ]
     },
     "execution_count": 108,
     "metadata": {},
     "output_type": "execute_result"
    }
   ],
   "source": [
    "min_pos = summary_df['travelTimeInSeconds'].idxmin()\n",
    "min_pos"
   ]
  },
  {
   "cell_type": "code",
   "execution_count": 119,
   "metadata": {},
   "outputs": [],
   "source": [
    "def get_guidance(start, stop, departAt, position, key):\n",
    "    guide = ''\n",
    "    base_url = \"https://api.tomtom.com/routing/1/calculateRoute/\"+start+\":\"+stop+\"/json?maxAlternatives=5&instructionsType=text&departAt=\"+departure_time+\"&key=\"+key\n",
    "    json_response = rq.get(base_url).json()\n",
    "    guidance_obj = json_response['routes'][position]['guidance']['instructionGroups']\n",
    "    obj_length = len(guidance_obj)\n",
    "    for i in range(obj_length):\n",
    "        if i==0:\n",
    "            guide = guidance_obj[0]['groupMessage']\n",
    "        else:\n",
    "            guide = guide+\". \"+ guidance_obj[i]['groupMessage']\n",
    "    return guide"
   ]
  },
  {
   "cell_type": "code",
   "execution_count": 128,
   "metadata": {},
   "outputs": [
    {
     "name": "stdout",
     "output_type": "stream",
     "text": [
      "HELLO THERE, FOLLOW THIS ROUTE FOR A FASTER DELIVERY: \n",
      "\n",
      " Leave from N Main St. Take the United States Highway 101 S/US-101 S, Take the Interstate Highway 5 S/I-5 S toward Santa Ana, Take the Jamboree Rd, Jamboree Rd S, Barranca Pkwy. Continue to your destination at Harvard Ave \n",
      "\n",
      "Thank you and have a safe ride\n"
     ]
    }
   ],
   "source": [
    "shortest_route = get_guidance(departure_point_coords, delivery_point_coords, departure_time,min_pos, __API_KEY__)\n",
    "print(\"HELLO THERE, FOLLOW THIS ROUTE FOR A FASTER DELIVERY: \", shortest_route,\"\\n\\nThank you and have a safe ride\")"
   ]
  }
 ],
 "metadata": {
  "kernelspec": {
   "display_name": "Python 3",
   "language": "python",
   "name": "python3"
  },
  "language_info": {
   "codemirror_mode": {
    "name": "ipython",
    "version": 3
   },
   "file_extension": ".py",
   "mimetype": "text/x-python",
   "name": "python",
   "nbconvert_exporter": "python",
   "pygments_lexer": "ipython3",
   "version": "3.8.5"
  }
 },
 "nbformat": 4,
 "nbformat_minor": 4
}
