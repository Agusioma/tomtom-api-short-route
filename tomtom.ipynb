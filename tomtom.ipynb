{
 "cells": [
  {
   "cell_type": "code",
   "execution_count": 5,
   "metadata": {},
   "outputs": [],
   "source": [
    "import urllib.parse as urlparse\n",
    "import pandas as pd\n",
    "import requests as rq"
   ]
  },
  {
   "cell_type": "code",
   "execution_count": 31,
   "metadata": {},
   "outputs": [],
   "source": [
    "__API_KEY__ = \"O81bHEfH6GzFRVgj6CTXyPGTYAsqNEVJ\"\n",
    "departure_point = 'Los Angeles'\n",
    "delivery_point = 'Irvine'\n",
    "departure_time = '2021-10-02T08:00:00'"
   ]
  },
  {
   "cell_type": "code",
   "execution_count": 27,
   "metadata": {},
   "outputs": [],
   "source": [
    "def search_city_coords(city, key):\n",
    "    coordinates_base_url = \"https://api.tomtom.com/search/2/search/\"+urlparse.quote(city)+\".json?minFuzzyLevel=1&maxFuzzyLevel=2&view=Unified&relatedPois=off&key=\"+key\n",
    "    json_response = rq.get(coordinates_base_url).json()\n",
    "    latitude = json_response['results'][0]['position']['lat']\n",
    "    longitude = json_response['results'][0]['position']['lon']\n",
    "    position = str(latitude)+\",\"+str(longitude)\n",
    "    return position"
   ]
  },
  {
   "cell_type": "code",
   "execution_count": 29,
   "metadata": {},
   "outputs": [],
   "source": [
    "def get_routes_info(start, stop, departAt, key):\n",
    "    base_url = \"https://api.tomtom.com/routing/1/calculateRoute/\"+start+\":\"+stop+\"/json?maxAlternatives=5&instructionsType=text&departAt=\"+departure_time+\"&key=\"+key\n",
    "    json_response = rq.get(base_url).json()\n",
    "    test = json_response['routes']\n",
    "    return test"
   ]
  },
  {
   "cell_type": "code",
   "execution_count": 38,
   "metadata": {},
   "outputs": [],
   "source": [
    "departure_point_coords = search_city_coords(departure_point, __API_KEY__)\n",
    "delivery_point_coords = search_city_coords(delivery_point, __API_KEY__)\n",
    "\n",
    "testArr = get_routes_info(departure_point_coords, delivery_point_coords, departure_time, __API_KEY__)\n",
    "skrrt = testArr[0]['summary']"
   ]
  },
  {
   "cell_type": "code",
   "execution_count": 46,
   "metadata": {},
   "outputs": [
    {
     "data": {
      "text/html": [
       "<div>\n",
       "<style scoped>\n",
       "    .dataframe tbody tr th:only-of-type {\n",
       "        vertical-align: middle;\n",
       "    }\n",
       "\n",
       "    .dataframe tbody tr th {\n",
       "        vertical-align: top;\n",
       "    }\n",
       "\n",
       "    .dataframe thead th {\n",
       "        text-align: right;\n",
       "    }\n",
       "</style>\n",
       "<table border=\"1\" class=\"dataframe\">\n",
       "  <thead>\n",
       "    <tr style=\"text-align: right;\">\n",
       "      <th></th>\n",
       "      <th>lengthInMeters</th>\n",
       "      <th>travelTimeInSeconds</th>\n",
       "      <th>trafficDelayInSeconds</th>\n",
       "      <th>trafficLengthInMeters</th>\n",
       "      <th>departureTime</th>\n",
       "      <th>arrivalTime</th>\n",
       "    </tr>\n",
       "  </thead>\n",
       "  <tbody>\n",
       "    <tr>\n",
       "      <th>0</th>\n",
       "      <td>64187</td>\n",
       "      <td>2591</td>\n",
       "      <td>0</td>\n",
       "      <td>0</td>\n",
       "      <td>2021-10-02T08:00:00-07:00</td>\n",
       "      <td>2021-10-02T08:43:10-07:00</td>\n",
       "    </tr>\n",
       "  </tbody>\n",
       "</table>\n",
       "</div>"
      ],
      "text/plain": [
       "   lengthInMeters  travelTimeInSeconds  trafficDelayInSeconds  \\\n",
       "0           64187                 2591                      0   \n",
       "\n",
       "   trafficLengthInMeters              departureTime                arrivalTime  \n",
       "0                      0  2021-10-02T08:00:00-07:00  2021-10-02T08:43:10-07:00  "
      ]
     },
     "execution_count": 46,
     "metadata": {},
     "output_type": "execute_result"
    }
   ],
   "source": [
    "testpd = pd.DataFrame([skrrt])\n",
    "testpd"
   ]
  },
  {
   "cell_type": "code",
   "execution_count": 54,
   "metadata": {},
   "outputs": [],
   "source": [
    "t = testpd.append((testArr[1]['summary']),ignore_index=True)"
   ]
  },
  {
   "cell_type": "code",
   "execution_count": 55,
   "metadata": {},
   "outputs": [
    {
     "data": {
      "text/html": [
       "<div>\n",
       "<style scoped>\n",
       "    .dataframe tbody tr th:only-of-type {\n",
       "        vertical-align: middle;\n",
       "    }\n",
       "\n",
       "    .dataframe tbody tr th {\n",
       "        vertical-align: top;\n",
       "    }\n",
       "\n",
       "    .dataframe thead th {\n",
       "        text-align: right;\n",
       "    }\n",
       "</style>\n",
       "<table border=\"1\" class=\"dataframe\">\n",
       "  <thead>\n",
       "    <tr style=\"text-align: right;\">\n",
       "      <th></th>\n",
       "      <th>lengthInMeters</th>\n",
       "      <th>travelTimeInSeconds</th>\n",
       "      <th>trafficDelayInSeconds</th>\n",
       "      <th>trafficLengthInMeters</th>\n",
       "      <th>departureTime</th>\n",
       "    </tr>\n",
       "  </thead>\n",
       "  <tbody>\n",
       "    <tr>\n",
       "      <th>0</th>\n",
       "      <td>64187</td>\n",
       "      <td>2591</td>\n",
       "      <td>0</td>\n",
       "      <td>0</td>\n",
       "      <td>2021-10-02T08:00:00-07:00</td>\n",
       "    </tr>\n",
       "    <tr>\n",
       "      <th>1</th>\n",
       "      <td>75229</td>\n",
       "      <td>2869</td>\n",
       "      <td>0</td>\n",
       "      <td>0</td>\n",
       "      <td>2021-10-02T08:00:00-07:00</td>\n",
       "    </tr>\n",
       "  </tbody>\n",
       "</table>\n",
       "</div>"
      ],
      "text/plain": [
       "   lengthInMeters  travelTimeInSeconds  trafficDelayInSeconds  \\\n",
       "0           64187                 2591                      0   \n",
       "1           75229                 2869                      0   \n",
       "\n",
       "   trafficLengthInMeters              departureTime  \n",
       "0                      0  2021-10-02T08:00:00-07:00  \n",
       "1                      0  2021-10-02T08:00:00-07:00  "
      ]
     },
     "execution_count": 55,
     "metadata": {},
     "output_type": "execute_result"
    }
   ],
   "source": [
    "t.iloc[: , :5]"
   ]
  },
  {
   "cell_type": "code",
   "execution_count": 40,
   "metadata": {},
   "outputs": [
    {
     "data": {
      "text/plain": [
       "6"
      ]
     },
     "execution_count": 40,
     "metadata": {},
     "output_type": "execute_result"
    }
   ],
   "source": [
    "len(testArr)"
   ]
  },
  {
   "cell_type": "code",
   "execution_count": 41,
   "metadata": {},
   "outputs": [
    {
     "data": {
      "text/plain": [
       "{'lengthInMeters': 64187,\n",
       " 'travelTimeInSeconds': 2591,\n",
       " 'trafficDelayInSeconds': 0,\n",
       " 'trafficLengthInMeters': 0,\n",
       " 'departureTime': '2021-10-02T08:00:00-07:00',\n",
       " 'arrivalTime': '2021-10-02T08:43:10-07:00'}"
      ]
     },
     "execution_count": 41,
     "metadata": {},
     "output_type": "execute_result"
    }
   ],
   "source": [
    "skrrt"
   ]
  }
 ],
 "metadata": {
  "kernelspec": {
   "display_name": "Python 3",
   "language": "python",
   "name": "python3"
  },
  "language_info": {
   "codemirror_mode": {
    "name": "ipython",
    "version": 3
   },
   "file_extension": ".py",
   "mimetype": "text/x-python",
   "name": "python",
   "nbconvert_exporter": "python",
   "pygments_lexer": "ipython3",
   "version": "3.8.5"
  }
 },
 "nbformat": 4,
 "nbformat_minor": 4
}
